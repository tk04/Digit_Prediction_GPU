{
 "cells": [
  {
   "cell_type": "code",
   "execution_count": 1,
   "metadata": {
    "executionInfo": {
     "elapsed": 4399,
     "status": "ok",
     "timestamp": 1612982191227,
     "user": {
      "displayName": "Turki",
      "photoUrl": "https://lh3.googleusercontent.com/a-/AOh14Gg2_ib-NsgS-CbZMKSysFQoM_wHwdWsmMqAlwlzVg=s64",
      "userId": "09994210461373012048"
     },
     "user_tz": 300
    },
    "id": "SOBceMb-tfnk"
   },
   "outputs": [],
   "source": [
    "import numpy as np\n",
    "import pandas as pd\n",
    "import matplotlib.pyplot as plt\n",
    "import torch\n",
    "import torch.nn.functional as F \n",
    "import torchvision\n",
    "from torchvision.datasets import MNIST\n",
    "from torch.utils.data.dataloader import DataLoader\n",
    "from torchvision.transforms import ToTensor\n",
    "from torchvision.utils import make_grid\n",
    "from torch.utils.data import random_split\n",
    "import torch.nn as nn\n",
    "import matplotlib\n",
    "import seaborn as sns\n",
    "%matplotlib inline"
   ]
  },
  {
   "cell_type": "code",
   "execution_count": 2,
   "metadata": {
    "colab": {
     "base_uri": "https://localhost:8080/",
     "height": 386,
     "referenced_widgets": [
      "60b98578da09492cb2096df6386c9eac",
      "2551cff342ca4045bcdc5b31d20f8989",
      "385b5803c22348f0a38ee05036987928",
      "8034d1434d9c47808e7b38890291252d",
      "6266b71b2acf4d7cbf092d658220e627",
      "f41f561859d0499f899d9459b1dda77b",
      "92554f41054b40ebbf1bbc7c51a575d3",
      "d0e7ecef8d334ea2bdebcfd5a771e022",
      "4d4d02269ee14f69a7c4120a7466e2e8",
      "6f613dd28f4643ef940aa33086bcc907",
      "d9e59fd12e974befb90cf92acb49b022",
      "de3a6a4d7361498dabd718f351d5cf66",
      "5aecb827543a43768d5769cd7718d434",
      "db06b67fa4ff4124b4052defd83152c9",
      "635744a5140f44019cc518d57bd50f2b",
      "705a70ce36774b22b872a1dd0aede42f",
      "e2763e98d065481fb86b30ced3fc675c",
      "409334a90dc2490aa44b8fefacdbb0a4",
      "75e943176f30409ca59dc6e448a3ee2b",
      "2cd18d76d41c4d0e8a51db708b084233",
      "2aa94eb5d5094506bfa4d4a40f0e14a1",
      "0db9a8a212c74731b51021929a1ca56c",
      "5f25a78d43154eea8edcd75e0edc3e41",
      "8dbba0b3e1e04197989cb631490eb6c2",
      "b308c3a37caa40fdb6ed5062abdfcc96",
      "7ea6b521510c475b8cd9c74ea58c8123",
      "976a3e55814749dbbf1ef0acaf959141",
      "b47986e9a32f4440a444d66c6e302beb",
      "269d9c15c8fc48c79f739f7cd781aa54",
      "6840c9f6c1384f0ab3c1da0d15e29c87",
      "d91617da1bfc49bcb7f685094b4683fe",
      "bee49a1e04f349d8a0f096b1b8336ea2"
     ]
    },
    "executionInfo": {
     "elapsed": 3067,
     "status": "ok",
     "timestamp": 1612982197957,
     "user": {
      "displayName": "Turki",
      "photoUrl": "https://lh3.googleusercontent.com/a-/AOh14Gg2_ib-NsgS-CbZMKSysFQoM_wHwdWsmMqAlwlzVg=s64",
      "userId": "09994210461373012048"
     },
     "user_tz": 300
    },
    "id": "EiDy8SmpuxA_",
    "outputId": "c78edb35-c3a2-4a5e-9024-4805e88bb54a"
   },
   "outputs": [
    {
     "name": "stdout",
     "output_type": "stream",
     "text": [
      "Downloading http://yann.lecun.com/exdb/mnist/train-images-idx3-ubyte.gz to data/MNIST/raw/train-images-idx3-ubyte.gz\n"
     ]
    },
    {
     "data": {
      "application/vnd.jupyter.widget-view+json": {
       "model_id": "60b98578da09492cb2096df6386c9eac",
       "version_major": 2,
       "version_minor": 0
      },
      "text/plain": [
       "HBox(children=(FloatProgress(value=1.0, bar_style='info', max=1.0), HTML(value='')))"
      ]
     },
     "metadata": {
      "tags": []
     },
     "output_type": "display_data"
    },
    {
     "name": "stdout",
     "output_type": "stream",
     "text": [
      "Extracting data/MNIST/raw/train-images-idx3-ubyte.gz to data/MNIST/raw\n",
      "Downloading http://yann.lecun.com/exdb/mnist/train-labels-idx1-ubyte.gz to data/MNIST/raw/train-labels-idx1-ubyte.gz\n"
     ]
    },
    {
     "data": {
      "application/vnd.jupyter.widget-view+json": {
       "model_id": "4d4d02269ee14f69a7c4120a7466e2e8",
       "version_major": 2,
       "version_minor": 0
      },
      "text/plain": [
       "HBox(children=(FloatProgress(value=1.0, bar_style='info', max=1.0), HTML(value='')))"
      ]
     },
     "metadata": {
      "tags": []
     },
     "output_type": "display_data"
    },
    {
     "name": "stdout",
     "output_type": "stream",
     "text": [
      "Extracting data/MNIST/raw/train-labels-idx1-ubyte.gz to data/MNIST/raw\n",
      "Downloading http://yann.lecun.com/exdb/mnist/t10k-images-idx3-ubyte.gz to data/MNIST/raw/t10k-images-idx3-ubyte.gz\n",
      "\n"
     ]
    },
    {
     "data": {
      "application/vnd.jupyter.widget-view+json": {
       "model_id": "e2763e98d065481fb86b30ced3fc675c",
       "version_major": 2,
       "version_minor": 0
      },
      "text/plain": [
       "HBox(children=(FloatProgress(value=1.0, bar_style='info', max=1.0), HTML(value='')))"
      ]
     },
     "metadata": {
      "tags": []
     },
     "output_type": "display_data"
    },
    {
     "name": "stdout",
     "output_type": "stream",
     "text": [
      "Extracting data/MNIST/raw/t10k-images-idx3-ubyte.gz to data/MNIST/raw\n",
      "Downloading http://yann.lecun.com/exdb/mnist/t10k-labels-idx1-ubyte.gz to data/MNIST/raw/t10k-labels-idx1-ubyte.gz\n"
     ]
    },
    {
     "data": {
      "application/vnd.jupyter.widget-view+json": {
       "model_id": "b308c3a37caa40fdb6ed5062abdfcc96",
       "version_major": 2,
       "version_minor": 0
      },
      "text/plain": [
       "HBox(children=(FloatProgress(value=1.0, bar_style='info', max=1.0), HTML(value='')))"
      ]
     },
     "metadata": {
      "tags": []
     },
     "output_type": "display_data"
    },
    {
     "name": "stdout",
     "output_type": "stream",
     "text": [
      "Extracting data/MNIST/raw/t10k-labels-idx1-ubyte.gz to data/MNIST/raw\n",
      "Processing...\n",
      "Done!\n"
     ]
    },
    {
     "name": "stderr",
     "output_type": "stream",
     "text": [
      "/usr/local/lib/python3.6/dist-packages/torchvision/datasets/mnist.py:480: UserWarning: The given NumPy array is not writeable, and PyTorch does not support non-writeable tensors. This means you can write to the underlying (supposedly non-writeable) NumPy array using the tensor. You may want to copy the array to protect its data or make it writeable before converting it to a tensor. This type of warning will be suppressed for the rest of this program. (Triggered internally at  /pytorch/torch/csrc/utils/tensor_numpy.cpp:141.)\n",
      "  return torch.from_numpy(parsed.astype(m[2], copy=False)).view(*s)\n"
     ]
    }
   ],
   "source": [
    "data = MNIST(root = 'data',download=True,transform=ToTensor())"
   ]
  },
  {
   "cell_type": "code",
   "execution_count": 3,
   "metadata": {
    "colab": {
     "base_uri": "https://localhost:8080/"
    },
    "executionInfo": {
     "elapsed": 263,
     "status": "ok",
     "timestamp": 1612982202229,
     "user": {
      "displayName": "Turki",
      "photoUrl": "https://lh3.googleusercontent.com/a-/AOh14Gg2_ib-NsgS-CbZMKSysFQoM_wHwdWsmMqAlwlzVg=s64",
      "userId": "09994210461373012048"
     },
     "user_tz": 300
    },
    "id": "nyTiFowBvm-C",
    "outputId": "04fa7194-a8cc-428a-8d2a-739827b42aba"
   },
   "outputs": [
    {
     "data": {
      "text/plain": [
       "torch.Size([1, 28, 28])"
      ]
     },
     "execution_count": 3,
     "metadata": {
      "tags": []
     },
     "output_type": "execute_result"
    }
   ],
   "source": [
    "data[1][0].shape"
   ]
  },
  {
   "cell_type": "code",
   "execution_count": 4,
   "metadata": {
    "colab": {
     "base_uri": "https://localhost:8080/",
     "height": 333
    },
    "executionInfo": {
     "elapsed": 380,
     "status": "ok",
     "timestamp": 1612982204744,
     "user": {
      "displayName": "Turki",
      "photoUrl": "https://lh3.googleusercontent.com/a-/AOh14Gg2_ib-NsgS-CbZMKSysFQoM_wHwdWsmMqAlwlzVg=s64",
      "userId": "09994210461373012048"
     },
     "user_tz": 300
    },
    "id": "uL3ihcxjv9WN",
    "outputId": "cd0d4ed7-ced0-4e35-cef8-b7208cffebbc"
   },
   "outputs": [
    {
     "name": "stdout",
     "output_type": "stream",
     "text": [
      "\n"
     ]
    },
    {
     "data": {
      "text/plain": [
       "<matplotlib.image.AxesImage at 0x7f61cd897400>"
      ]
     },
     "execution_count": 4,
     "metadata": {
      "tags": []
     },
     "output_type": "execute_result"
    },
    {
     "data": {
      "image/png": "[encoded data removed]",
      "text/plain": [
       "<Figure size 432x288 with 1 Axes>"
      ]
     },
     "metadata": {
      "needs_background": "light",
      "tags": []
     },
     "output_type": "display_data"
    },
    {
     "name": "stdout",
     "output_type": "stream",
     "text": [
      "\n",
      "\n"
     ]
    }
   ],
   "source": [
    "plt.imshow(data[0][0][0],cmap='gray')"
   ]
  },
  {
   "cell_type": "code",
   "execution_count": 5,
   "metadata": {
    "executionInfo": {
     "elapsed": 285,
     "status": "ok",
     "timestamp": 1612982208663,
     "user": {
      "displayName": "Turki",
      "photoUrl": "https://lh3.googleusercontent.com/a-/AOh14Gg2_ib-NsgS-CbZMKSysFQoM_wHwdWsmMqAlwlzVg=s64",
      "userId": "09994210461373012048"
     },
     "user_tz": 300
    },
    "id": "v5Y2eJ7Dwnva"
   },
   "outputs": [],
   "source": [
    "val_size = 10000\n",
    "train_size = len(data) - val_size\n",
    "train_ds, val_ds = random_split(data,[train_size,val_size])"
   ]
  },
  {
   "cell_type": "code",
   "execution_count": 6,
   "metadata": {
    "colab": {
     "base_uri": "https://localhost:8080/"
    },
    "executionInfo": {
     "elapsed": 245,
     "status": "ok",
     "timestamp": 1612982209577,
     "user": {
      "displayName": "Turki",
      "photoUrl": "https://lh3.googleusercontent.com/a-/AOh14Gg2_ib-NsgS-CbZMKSysFQoM_wHwdWsmMqAlwlzVg=s64",
      "userId": "09994210461373012048"
     },
     "user_tz": 300
    },
    "id": "3J715BvXwtYR",
    "outputId": "e307feb6-fa2a-42fd-8ea1-bebee62835a9"
   },
   "outputs": [
    {
     "data": {
      "text/plain": [
       "(50000, 10000, 60000)"
      ]
     },
     "execution_count": 6,
     "metadata": {
      "tags": []
     },
     "output_type": "execute_result"
    }
   ],
   "source": [
    "len(train_ds), len(val_ds),len(data)"
   ]
  },
  {
   "cell_type": "code",
   "execution_count": 7,
   "metadata": {
    "executionInfo": {
     "elapsed": 314,
     "status": "ok",
     "timestamp": 1612982210710,
     "user": {
      "displayName": "Turki",
      "photoUrl": "https://lh3.googleusercontent.com/a-/AOh14Gg2_ib-NsgS-CbZMKSysFQoM_wHwdWsmMqAlwlzVg=s64",
      "userId": "09994210461373012048"
     },
     "user_tz": 300
    },
    "id": "w3jR_JdixlHc"
   },
   "outputs": [],
   "source": [
    "batch_size= 128\n",
    "\n",
    "train_dl = DataLoader(train_ds,batch_size,shuffle=True,num_workers=4, pin_memory=True)\n",
    "val_dl = DataLoader(val_ds,batch_size,num_workers=4,pin_memory=True)"
   ]
  },
  {
   "cell_type": "code",
   "execution_count": 8,
   "metadata": {
    "colab": {
     "base_uri": "https://localhost:8080/",
     "height": 483
    },
    "executionInfo": {
     "elapsed": 11450,
     "status": "ok",
     "timestamp": 1612982223205,
     "user": {
      "displayName": "Turki",
      "photoUrl": "https://lh3.googleusercontent.com/a-/AOh14Gg2_ib-NsgS-CbZMKSysFQoM_wHwdWsmMqAlwlzVg=s64",
      "userId": "09994210461373012048"
     },
     "user_tz": 300
    },
    "id": "Wwdn_Y5Zyk3-",
    "outputId": "e7f5cc16-690c-44f2-bcb1-2ea8561b35e7"
   },
   "outputs": [
    {
     "name": "stdout",
     "output_type": "stream",
     "text": [
      "torch.Size([128, 1, 28, 28])\n"
     ]
    },
    {
     "data": {
      "image/png": "[encoded data removed]",
      "text/plain": [
       "<Figure size 1152x576 with 1 Axes>"
      ]
     },
     "metadata": {
      "needs_background": "light",
      "tags": []
     },
     "output_type": "display_data"
    }
   ],
   "source": [
    "for images,_ in train_dl:\n",
    "  print(images.shape)\n",
    "  plt.figure(figsize=(16,8))\n",
    "  plt.axis('off')\n",
    "  plt.imshow(make_grid(images,nrow=16).permute(1,2,0))\n",
    "  break"
   ]
  },
  {
   "cell_type": "code",
   "execution_count": 9,
   "metadata": {
    "executionInfo": {
     "elapsed": 438,
     "status": "ok",
     "timestamp": 1612982235800,
     "user": {
      "displayName": "Turki",
      "photoUrl": "https://lh3.googleusercontent.com/a-/AOh14Gg2_ib-NsgS-CbZMKSysFQoM_wHwdWsmMqAlwlzVg=s64",
      "userId": "09994210461373012048"
     },
     "user_tz": 300
    },
    "id": "kFmHQJzlzXNh"
   },
   "outputs": [],
   "source": [
    "layer1 = nn.Linear(784,32) #hidden layer"
   ]
  },
  {
   "cell_type": "code",
   "execution_count": 10,
   "metadata": {
    "executionInfo": {
     "elapsed": 278,
     "status": "ok",
     "timestamp": 1612982237642,
     "user": {
      "displayName": "Turki",
      "photoUrl": "https://lh3.googleusercontent.com/a-/AOh14Gg2_ib-NsgS-CbZMKSysFQoM_wHwdWsmMqAlwlzVg=s64",
      "userId": "09994210461373012048"
     },
     "user_tz": 300
    },
    "id": "bnohenXlzS0U"
   },
   "outputs": [],
   "source": [
    "layer2 = nn.Linear(32,10) #output layer"
   ]
  },
  {
   "cell_type": "code",
   "execution_count": 46,
   "metadata": {
    "executionInfo": {
     "elapsed": 274,
     "status": "ok",
     "timestamp": 1612987734624,
     "user": {
      "displayName": "Turki",
      "photoUrl": "https://lh3.googleusercontent.com/a-/AOh14Gg2_ib-NsgS-CbZMKSysFQoM_wHwdWsmMqAlwlzVg=s64",
      "userId": "09994210461373012048"
     },
     "user_tz": 300
    },
    "id": "xZh4lAmv2Z2n"
   },
   "outputs": [],
   "source": [
    "class MnistModel(nn.Module):\n",
    "\n",
    "\n",
    "  def __init__(self):\n",
    "    super().__init__()\n",
    "    self.linear1 = nn.Linear(784,32)\n",
    "    self.linear2 = nn.Linear(32,10)\n",
    "\n",
    "  def forward(self,xb):\n",
    "    xb = xb.reshape(xb.size(0),-1)\n",
    "    out = self.linear1(xb)\n",
    "    out = F.relu(out)\n",
    "\n",
    "    out = self.linear2(out)\n",
    "\n",
    "    return out\n",
    "\n",
    "  def training_step(self,batch):\n",
    "    images,labels = batch\n",
    "    out = self(images)\n",
    "    loss = F.cross_entropy(out,labels)\n",
    "    return loss\n",
    "\n",
    "  def validation_step(self,batch):\n",
    "    images,labels = batch\n",
    "    out = self(images)\n",
    "    loss = F.cross_entropy(out,labels)\n",
    "\n",
    "    acc = accuracy(out,labels)\n",
    "\n",
    "    return {\"val_loss\":loss,\"val_acc\":acc}\n",
    "\n",
    "  def validarion_epoch_step(self,batch):\n",
    "    batch_loss = [x['val_loss'] for x in batch]\n",
    "    epoch_loss = torch.stack(batch_loss).mean()\n",
    "    batch_acc = [x['val_acc'] for x in batch]\n",
    "    epoch_acc = torch.stack(batch_acc).mean()\n",
    "\n",
    "    return {'val_loss': epoch_loss.item(),\"val_acc\":epoch_acc.item()}\n",
    "\n",
    "  def epoch_end(self,epoch,result):\n",
    "\n",
    "    print(\"Epoch [{}] val_loss: {:.4f} val_accuracy {:.4f}\".format(epoch,result['val_loss'],result['val_acc']))\n",
    "\n",
    "\n",
    "model = MnistModel()\n"
   ]
  },
  {
   "cell_type": "code",
   "execution_count": 13,
   "metadata": {
    "executionInfo": {
     "elapsed": 422,
     "status": "ok",
     "timestamp": 1612983505028,
     "user": {
      "displayName": "Turki",
      "photoUrl": "https://lh3.googleusercontent.com/a-/AOh14Gg2_ib-NsgS-CbZMKSysFQoM_wHwdWsmMqAlwlzVg=s64",
      "userId": "09994210461373012048"
     },
     "user_tz": 300
    },
    "id": "quqkYGJxRrdh"
   },
   "outputs": [],
   "source": [
    "def accuracy(outputs,label):\n",
    "  _,preds = torch.max(outputs,dim=1)\n",
    "\n",
    "  return torch.tensor(torch.sum(preds==label).item()) / len(outputs)"
   ]
  },
  {
   "cell_type": "code",
   "execution_count": 18,
   "metadata": {
    "colab": {
     "base_uri": "https://localhost:8080/"
    },
    "executionInfo": {
     "elapsed": 234,
     "status": "ok",
     "timestamp": 1612983640961,
     "user": {
      "displayName": "Turki",
      "photoUrl": "https://lh3.googleusercontent.com/a-/AOh14Gg2_ib-NsgS-CbZMKSysFQoM_wHwdWsmMqAlwlzVg=s64",
      "userId": "09994210461373012048"
     },
     "user_tz": 300
    },
    "id": "Wr0JjPU0Tw6u",
    "outputId": "7ca17352-c92a-4e0a-cf4b-43d11b48e16f"
   },
   "outputs": [
    {
     "data": {
      "text/plain": [
       "True"
      ]
     },
     "execution_count": 18,
     "metadata": {
      "tags": []
     },
     "output_type": "execute_result"
    }
   ],
   "source": [
    "torch.cuda.is_available() #check if gpu is avaliable and required nvidia cuda drivers are installed"
   ]
  },
  {
   "cell_type": "code",
   "execution_count": 19,
   "metadata": {
    "executionInfo": {
     "elapsed": 229,
     "status": "ok",
     "timestamp": 1612983749152,
     "user": {
      "displayName": "Turki",
      "photoUrl": "https://lh3.googleusercontent.com/a-/AOh14Gg2_ib-NsgS-CbZMKSysFQoM_wHwdWsmMqAlwlzVg=s64",
      "userId": "09994210461373012048"
     },
     "user_tz": 300
    },
    "id": "438eO6-8UGfH"
   },
   "outputs": [],
   "source": [
    "def get_default_device():\n",
    "  #uses gpu if available, if not then uses cpu\n",
    "  if torch.cuda.is_available():\n",
    "    return torch.device('cuda')\n",
    "  else:\n",
    "    return torch.device('cpu')"
   ]
  },
  {
   "cell_type": "code",
   "execution_count": 20,
   "metadata": {
    "executionInfo": {
     "elapsed": 262,
     "status": "ok",
     "timestamp": 1612983754501,
     "user": {
      "displayName": "Turki",
      "photoUrl": "https://lh3.googleusercontent.com/a-/AOh14Gg2_ib-NsgS-CbZMKSysFQoM_wHwdWsmMqAlwlzVg=s64",
      "userId": "09994210461373012048"
     },
     "user_tz": 300
    },
    "id": "V-agWFBpUskM"
   },
   "outputs": [],
   "source": [
    "device = get_default_device()"
   ]
  },
  {
   "cell_type": "code",
   "execution_count": 22,
   "metadata": {
    "colab": {
     "base_uri": "https://localhost:8080/"
    },
    "executionInfo": {
     "elapsed": 233,
     "status": "ok",
     "timestamp": 1612983786295,
     "user": {
      "displayName": "Turki",
      "photoUrl": "https://lh3.googleusercontent.com/a-/AOh14Gg2_ib-NsgS-CbZMKSysFQoM_wHwdWsmMqAlwlzVg=s64",
      "userId": "09994210461373012048"
     },
     "user_tz": 300
    },
    "id": "_WLhj4tQUt3T",
    "outputId": "b6c8acc8-fe37-4d20-cde6-de528dce4a00"
   },
   "outputs": [
    {
     "data": {
      "text/plain": [
       "device(type='cuda')"
      ]
     },
     "execution_count": 22,
     "metadata": {
      "tags": []
     },
     "output_type": "execute_result"
    }
   ],
   "source": [
    "device"
   ]
  },
  {
   "cell_type": "code",
   "execution_count": 32,
   "metadata": {
    "executionInfo": {
     "elapsed": 245,
     "status": "ok",
     "timestamp": 1612986506412,
     "user": {
      "displayName": "Turki",
      "photoUrl": "https://lh3.googleusercontent.com/a-/AOh14Gg2_ib-NsgS-CbZMKSysFQoM_wHwdWsmMqAlwlzVg=s64",
      "userId": "09994210461373012048"
     },
     "user_tz": 300
    },
    "id": "brn-QMzQUuOO"
   },
   "outputs": [],
   "source": [
    "def move_to_device(data,device):\n",
    "  if isinstance(data,(list,tuple)):\n",
    "    return [move_to_device(x,device) for x in data]\n",
    "  return data.to(device,non_blocking=True)"
   ]
  },
  {
   "cell_type": "code",
   "execution_count": 33,
   "metadata": {
    "executionInfo": {
     "elapsed": 393,
     "status": "ok",
     "timestamp": 1612986506781,
     "user": {
      "displayName": "Turki",
      "photoUrl": "https://lh3.googleusercontent.com/a-/AOh14Gg2_ib-NsgS-CbZMKSysFQoM_wHwdWsmMqAlwlzVg=s64",
      "userId": "09994210461373012048"
     },
     "user_tz": 300
    },
    "id": "DBcpAkmbVMKN"
   },
   "outputs": [],
   "source": [
    "class DeviceDataLoader():\n",
    "  \n",
    "  def __init__(self,dl,device):\n",
    "    self.dl = dl\n",
    "    self.device = device\n",
    "\n",
    "\n",
    "  def __iter__(self):\n",
    "    \n",
    "    for b in self.dl:\n",
    "      yield move_to_device(b,self.device)\n",
    "\n",
    "  def __len__(self):\n",
    "    return len(self.dl)"
   ]
  },
  {
   "cell_type": "code",
   "execution_count": 34,
   "metadata": {
    "executionInfo": {
     "elapsed": 279,
     "status": "ok",
     "timestamp": 1612986509282,
     "user": {
      "displayName": "Turki",
      "photoUrl": "https://lh3.googleusercontent.com/a-/AOh14Gg2_ib-NsgS-CbZMKSysFQoM_wHwdWsmMqAlwlzVg=s64",
      "userId": "09994210461373012048"
     },
     "user_tz": 300
    },
    "id": "6eDUWcYsVMen"
   },
   "outputs": [],
   "source": [
    "train_loader = DeviceDataLoader(train_dl,device)\n",
    "val_loader = DeviceDataLoader(val_dl,device)"
   ]
  },
  {
   "cell_type": "code",
   "execution_count": 39,
   "metadata": {
    "executionInfo": {
     "elapsed": 280,
     "status": "ok",
     "timestamp": 1612986712178,
     "user": {
      "displayName": "Turki",
      "photoUrl": "https://lh3.googleusercontent.com/a-/AOh14Gg2_ib-NsgS-CbZMKSysFQoM_wHwdWsmMqAlwlzVg=s64",
      "userId": "09994210461373012048"
     },
     "user_tz": 300
    },
    "id": "yQI3iW9kfFZu"
   },
   "outputs": [],
   "source": [
    "def evaluate(model,val_loader):\n",
    "  outputs = [model.validation_step(batch) for batch in val_loader]\n",
    "  return model.validarion_epoch_step(outputs)\n"
   ]
  },
  {
   "cell_type": "code",
   "execution_count": 54,
   "metadata": {
    "executionInfo": {
     "elapsed": 278,
     "status": "ok",
     "timestamp": 1612987954577,
     "user": {
      "displayName": "Turki",
      "photoUrl": "https://lh3.googleusercontent.com/a-/AOh14Gg2_ib-NsgS-CbZMKSysFQoM_wHwdWsmMqAlwlzVg=s64",
      "userId": "09994210461373012048"
     },
     "user_tz": 300
    },
    "id": "npjs_RABfGUX"
   },
   "outputs": [],
   "source": [
    "def fit(epochs,lr,model,train_loader,val_loader,opt=torch.optim.SGD):\n",
    "  optimizer = opt(model.parameters(),lr)\n",
    "  history = []\n",
    "\n",
    "\n",
    "  for epoch in range(epochs):\n",
    "\n",
    "\n",
    "    for batch in train_loader:\n",
    "      loss = model.training_step(batch)\n",
    "      loss.backward()\n",
    "      optimizer.step()\n",
    "      optimizer.zero_grad()\n",
    "\n",
    "    results = evaluate(model,val_loader)\n",
    "    model.epoch_end(epoch,results)\n",
    "    history.append(results)\n",
    "\n",
    "  return history"
   ]
  },
  {
   "cell_type": "code",
   "execution_count": 48,
   "metadata": {
    "colab": {
     "base_uri": "https://localhost:8080/"
    },
    "executionInfo": {
     "elapsed": 320,
     "status": "ok",
     "timestamp": 1612987750682,
     "user": {
      "displayName": "Turki",
      "photoUrl": "https://lh3.googleusercontent.com/a-/AOh14Gg2_ib-NsgS-CbZMKSysFQoM_wHwdWsmMqAlwlzVg=s64",
      "userId": "09994210461373012048"
     },
     "user_tz": 300
    },
    "id": "y3XCXZ_Yi6jv",
    "outputId": "92990d30-9594-4060-875c-e0b8ef2f3810"
   },
   "outputs": [
    {
     "data": {
      "text/plain": [
       "MnistModel(\n",
       "  (linear1): Linear(in_features=784, out_features=32, bias=True)\n",
       "  (linear2): Linear(in_features=32, out_features=10, bias=True)\n",
       ")"
      ]
     },
     "execution_count": 48,
     "metadata": {
      "tags": []
     },
     "output_type": "execute_result"
    }
   ],
   "source": [
    "move_to_device(model,device) #move model parameters and model to GPU"
   ]
  },
  {
   "cell_type": "code",
   "execution_count": 49,
   "metadata": {
    "executionInfo": {
     "elapsed": 1262,
     "status": "ok",
     "timestamp": 1612987753002,
     "user": {
      "displayName": "Turki",
      "photoUrl": "https://lh3.googleusercontent.com/a-/AOh14Gg2_ib-NsgS-CbZMKSysFQoM_wHwdWsmMqAlwlzVg=s64",
      "userId": "09994210461373012048"
     },
     "user_tz": 300
    },
    "id": "MYrLfYxNjSzQ"
   },
   "outputs": [],
   "source": [
    "history = [evaluate(model,val_loader)]"
   ]
  },
  {
   "cell_type": "code",
   "execution_count": 50,
   "metadata": {
    "colab": {
     "base_uri": "https://localhost:8080/"
    },
    "executionInfo": {
     "elapsed": 268,
     "status": "ok",
     "timestamp": 1612987755609,
     "user": {
      "displayName": "Turki",
      "photoUrl": "https://lh3.googleusercontent.com/a-/AOh14Gg2_ib-NsgS-CbZMKSysFQoM_wHwdWsmMqAlwlzVg=s64",
      "userId": "09994210461373012048"
     },
     "user_tz": 300
    },
    "id": "LG6DChivjzZb",
    "outputId": "6f4a5149-9501-4cae-b188-1da96bb69c49"
   },
   "outputs": [
    {
     "data": {
      "text/plain": [
       "[{'val_acc': 0.09384889155626297, 'val_loss': 2.3151652812957764}]"
      ]
     },
     "execution_count": 50,
     "metadata": {
      "tags": []
     },
     "output_type": "execute_result"
    }
   ],
   "source": [
    "history"
   ]
  },
  {
   "cell_type": "code",
   "execution_count": 55,
   "metadata": {
    "colab": {
     "base_uri": "https://localhost:8080/"
    },
    "executionInfo": {
     "elapsed": 25207,
     "status": "ok",
     "timestamp": 1612987981548,
     "user": {
      "displayName": "Turki",
      "photoUrl": "https://lh3.googleusercontent.com/a-/AOh14Gg2_ib-NsgS-CbZMKSysFQoM_wHwdWsmMqAlwlzVg=s64",
      "userId": "09994210461373012048"
     },
     "user_tz": 300
    },
    "id": "9bXuYFk-j0m8",
    "outputId": "ac3bddee-1768-457c-fd4d-b698f7ae68ed"
   },
   "outputs": [
    {
     "name": "stdout",
     "output_type": "stream",
     "text": [
      "Epoch [0] val_loss: 0.1552 val_accuracy 0.9554\n",
      "Epoch [1] val_loss: 0.1510 val_accuracy 0.9549\n",
      "Epoch [2] val_loss: 0.1203 val_accuracy 0.9641\n",
      "Epoch [3] val_loss: 0.1190 val_accuracy 0.9624\n",
      "Epoch [4] val_loss: 0.1076 val_accuracy 0.9676\n"
     ]
    }
   ],
   "source": [
    "history += fit(5,0.5,model,train_loader,val_loader)"
   ]
  },
  {
   "cell_type": "code",
   "execution_count": 56,
   "metadata": {
    "colab": {
     "base_uri": "https://localhost:8080/"
    },
    "executionInfo": {
     "elapsed": 24886,
     "status": "ok",
     "timestamp": 1612988016412,
     "user": {
      "displayName": "Turki",
      "photoUrl": "https://lh3.googleusercontent.com/a-/AOh14Gg2_ib-NsgS-CbZMKSysFQoM_wHwdWsmMqAlwlzVg=s64",
      "userId": "09994210461373012048"
     },
     "user_tz": 300
    },
    "id": "CfLz_tIVkj-e",
    "outputId": "73579d9d-a58a-4a5c-a626-4fde6a1bddcc"
   },
   "outputs": [
    {
     "name": "stdout",
     "output_type": "stream",
     "text": [
      "Epoch [0] val_loss: 0.1004 val_accuracy 0.9690\n",
      "Epoch [1] val_loss: 0.0996 val_accuracy 0.9693\n",
      "Epoch [2] val_loss: 0.0999 val_accuracy 0.9705\n",
      "Epoch [3] val_loss: 0.0997 val_accuracy 0.9688\n",
      "Epoch [4] val_loss: 0.0999 val_accuracy 0.9690\n"
     ]
    }
   ],
   "source": [
    "history += fit(5,0.1,model,train_loader,val_loader)"
   ]
  },
  {
   "cell_type": "code",
   "execution_count": 57,
   "metadata": {
    "colab": {
     "base_uri": "https://localhost:8080/"
    },
    "executionInfo": {
     "elapsed": 24577,
     "status": "ok",
     "timestamp": 1612988068523,
     "user": {
      "displayName": "Turki",
      "photoUrl": "https://lh3.googleusercontent.com/a-/AOh14Gg2_ib-NsgS-CbZMKSysFQoM_wHwdWsmMqAlwlzVg=s64",
      "userId": "09994210461373012048"
     },
     "user_tz": 300
    },
    "id": "3eMLe5eXk4Wt",
    "outputId": "3a27faeb-3bac-49a9-e99c-0082e234bfdb"
   },
   "outputs": [
    {
     "name": "stdout",
     "output_type": "stream",
     "text": [
      "Epoch [0] val_loss: 0.0992 val_accuracy 0.9694\n",
      "Epoch [1] val_loss: 0.0989 val_accuracy 0.9696\n",
      "Epoch [2] val_loss: 0.0986 val_accuracy 0.9695\n",
      "Epoch [3] val_loss: 0.0985 val_accuracy 0.9697\n",
      "Epoch [4] val_loss: 0.0984 val_accuracy 0.9699\n"
     ]
    }
   ],
   "source": [
    "history += fit(5,0.001,model,train_loader,val_loader)"
   ]
  },
  {
   "cell_type": "code",
   "execution_count": null,
   "metadata": {
    "id": "kw4hyOO-nIsZ"
   },
   "outputs": [],
   "source": [
    "#97% acc"
   ]
  }
 ],
 "metadata": {
  "accelerator": "GPU",
  "colab": {
   "authorship_tag": "ABX9TyOzwJkd7d6tBPeU5GqNaLWY",
   "name": "GPU_DIGIT_PREDICTIONS.ipynb",
   "provenance": []
  },
  "kernelspec": {
   "display_name": "Python 3",
   "language": "python",
   "name": "python3"
  },
  "language_info": {
   "codemirror_mode": {
    "name": "ipython",
    "version": 3
   },
   "file_extension": ".py",
   "mimetype": "text/x-python",
   "name": "python",
   "nbconvert_exporter": "python",
   "pygments_lexer": "ipython3",
   "version": "3.7.9"
  },
  "widgets": {
   "application/vnd.jupyter.widget-state+json": {
    "0db9a8a212c74731b51021929a1ca56c": {
     "model_module": "@jupyter-widgets/base",
     "model_name": "LayoutModel",
     "state": {
      "_model_module": "@jupyter-widgets/base",
      "_model_module_version": "1.2.0",
      "_model_name": "LayoutModel",
      "_view_count": null,
      "_view_module": "@jupyter-widgets/base",
      "_view_module_version": "1.2.0",
      "_view_name": "LayoutView",
      "align_content": null,
      "align_items": null,
      "align_self": null,
      "border": null,
      "bottom": null,
      "display": null,
      "flex": null,
      "flex_flow": null,
      "grid_area": null,
      "grid_auto_columns": null,
      "grid_auto_flow": null,
      "grid_auto_rows": null,
      "grid_column": null,
      "grid_gap": null,
      "grid_row": null,
      "grid_template_areas": null,
      "grid_template_columns": null,
      "grid_template_rows": null,
      "height": null,
      "justify_content": null,
      "justify_items": null,
      "left": null,
      "margin": null,
      "max_height": null,
      "max_width": null,
      "min_height": null,
      "min_width": null,
      "object_fit": null,
      "object_position": null,
      "order": null,
      "overflow": null,
      "overflow_x": null,
      "overflow_y": null,
      "padding": null,
      "right": null,
      "top": null,
      "visibility": null,
      "width": null
     }
    },
    "2551cff342ca4045bcdc5b31d20f8989": {
     "model_module": "@jupyter-widgets/base",
     "model_name": "LayoutModel",
     "state": {
      "_model_module": "@jupyter-widgets/base",
      "_model_module_version": "1.2.0",
      "_model_name": "LayoutModel",
      "_view_count": null,
      "_view_module": "@jupyter-widgets/base",
      "_view_module_version": "1.2.0",
      "_view_name": "LayoutView",
      "align_content": null,
      "align_items": null,
      "align_self": null,
      "border": null,
      "bottom": null,
      "display": null,
      "flex": null,
      "flex_flow": null,
      "grid_area": null,
      "grid_auto_columns": null,
      "grid_auto_flow": null,
      "grid_auto_rows": null,
      "grid_column": null,
      "grid_gap": null,
      "grid_row": null,
      "grid_template_areas": null,
      "grid_template_columns": null,
      "grid_template_rows": null,
      "height": null,
      "justify_content": null,
      "justify_items": null,
      "left": null,
      "margin": null,
      "max_height": null,
      "max_width": null,
      "min_height": null,
      "min_width": null,
      "object_fit": null,
      "object_position": null,
      "order": null,
      "overflow": null,
      "overflow_x": null,
      "overflow_y": null,
      "padding": null,
      "right": null,
      "top": null,
      "visibility": null,
      "width": null
     }
    },
    "269d9c15c8fc48c79f739f7cd781aa54": {
     "model_module": "@jupyter-widgets/controls",
     "model_name": "ProgressStyleModel",
     "state": {
      "_model_module": "@jupyter-widgets/controls",
      "_model_module_version": "1.5.0",
      "_model_name": "ProgressStyleModel",
      "_view_count": null,
      "_view_module": "@jupyter-widgets/base",
      "_view_module_version": "1.2.0",
      "_view_name": "StyleView",
      "bar_color": null,
      "description_width": "initial"
     }
    },
    "2aa94eb5d5094506bfa4d4a40f0e14a1": {
     "model_module": "@jupyter-widgets/controls",
     "model_name": "ProgressStyleModel",
     "state": {
      "_model_module": "@jupyter-widgets/controls",
      "_model_module_version": "1.5.0",
      "_model_name": "ProgressStyleModel",
      "_view_count": null,
      "_view_module": "@jupyter-widgets/base",
      "_view_module_version": "1.2.0",
      "_view_name": "StyleView",
      "bar_color": null,
      "description_width": "initial"
     }
    },
    "2cd18d76d41c4d0e8a51db708b084233": {
     "model_module": "@jupyter-widgets/controls",
     "model_name": "HTMLModel",
     "state": {
      "_dom_classes": [],
      "_model_module": "@jupyter-widgets/controls",
      "_model_module_version": "1.5.0",
      "_model_name": "HTMLModel",
      "_view_count": null,
      "_view_module": "@jupyter-widgets/controls",
      "_view_module_version": "1.5.0",
      "_view_name": "HTMLView",
      "description": "",
      "description_tooltip": null,
      "layout": "IPY_MODEL_8dbba0b3e1e04197989cb631490eb6c2",
      "placeholder": "​",
      "style": "IPY_MODEL_5f25a78d43154eea8edcd75e0edc3e41",
      "value": " 1654784/? [00:07&lt;00:00, 209080.84it/s]"
     }
    },
    "385b5803c22348f0a38ee05036987928": {
     "model_module": "@jupyter-widgets/controls",
     "model_name": "FloatProgressModel",
     "state": {
      "_dom_classes": [],
      "_model_module": "@jupyter-widgets/controls",
      "_model_module_version": "1.5.0",
      "_model_name": "FloatProgressModel",
      "_view_count": null,
      "_view_module": "@jupyter-widgets/controls",
      "_view_module_version": "1.5.0",
      "_view_name": "ProgressView",
      "bar_style": "success",
      "description": "",
      "description_tooltip": null,
      "layout": "IPY_MODEL_f41f561859d0499f899d9459b1dda77b",
      "max": 1,
      "min": 0,
      "orientation": "horizontal",
      "style": "IPY_MODEL_6266b71b2acf4d7cbf092d658220e627",
      "value": 1
     }
    },
    "409334a90dc2490aa44b8fefacdbb0a4": {
     "model_module": "@jupyter-widgets/base",
     "model_name": "LayoutModel",
     "state": {
      "_model_module": "@jupyter-widgets/base",
      "_model_module_version": "1.2.0",
      "_model_name": "LayoutModel",
      "_view_count": null,
      "_view_module": "@jupyter-widgets/base",
      "_view_module_version": "1.2.0",
      "_view_name": "LayoutView",
      "align_content": null,
      "align_items": null,
      "align_self": null,
      "border": null,
      "bottom": null,
      "display": null,
      "flex": null,
      "flex_flow": null,
      "grid_area": null,
      "grid_auto_columns": null,
      "grid_auto_flow": null,
      "grid_auto_rows": null,
      "grid_column": null,
      "grid_gap": null,
      "grid_row": null,
      "grid_template_areas": null,
      "grid_template_columns": null,
      "grid_template_rows": null,
      "height": null,
      "justify_content": null,
      "justify_items": null,
      "left": null,
      "margin": null,
      "max_height": null,
      "max_width": null,
      "min_height": null,
      "min_width": null,
      "object_fit": null,
      "object_position": null,
      "order": null,
      "overflow": null,
      "overflow_x": null,
      "overflow_y": null,
      "padding": null,
      "right": null,
      "top": null,
      "visibility": null,
      "width": null
     }
    },
    "4d4d02269ee14f69a7c4120a7466e2e8": {
     "model_module": "@jupyter-widgets/controls",
     "model_name": "HBoxModel",
     "state": {
      "_dom_classes": [],
      "_model_module": "@jupyter-widgets/controls",
      "_model_module_version": "1.5.0",
      "_model_name": "HBoxModel",
      "_view_count": null,
      "_view_module": "@jupyter-widgets/controls",
      "_view_module_version": "1.5.0",
      "_view_name": "HBoxView",
      "box_style": "",
      "children": [
       "IPY_MODEL_d9e59fd12e974befb90cf92acb49b022",
       "IPY_MODEL_de3a6a4d7361498dabd718f351d5cf66"
      ],
      "layout": "IPY_MODEL_6f613dd28f4643ef940aa33086bcc907"
     }
    },
    "5aecb827543a43768d5769cd7718d434": {
     "model_module": "@jupyter-widgets/controls",
     "model_name": "ProgressStyleModel",
     "state": {
      "_model_module": "@jupyter-widgets/controls",
      "_model_module_version": "1.5.0",
      "_model_name": "ProgressStyleModel",
      "_view_count": null,
      "_view_module": "@jupyter-widgets/base",
      "_view_module_version": "1.2.0",
      "_view_name": "StyleView",
      "bar_color": null,
      "description_width": "initial"
     }
    },
    "5f25a78d43154eea8edcd75e0edc3e41": {
     "model_module": "@jupyter-widgets/controls",
     "model_name": "DescriptionStyleModel",
     "state": {
      "_model_module": "@jupyter-widgets/controls",
      "_model_module_version": "1.5.0",
      "_model_name": "DescriptionStyleModel",
      "_view_count": null,
      "_view_module": "@jupyter-widgets/base",
      "_view_module_version": "1.2.0",
      "_view_name": "StyleView",
      "description_width": ""
     }
    },
    "60b98578da09492cb2096df6386c9eac": {
     "model_module": "@jupyter-widgets/controls",
     "model_name": "HBoxModel",
     "state": {
      "_dom_classes": [],
      "_model_module": "@jupyter-widgets/controls",
      "_model_module_version": "1.5.0",
      "_model_name": "HBoxModel",
      "_view_count": null,
      "_view_module": "@jupyter-widgets/controls",
      "_view_module_version": "1.5.0",
      "_view_name": "HBoxView",
      "box_style": "",
      "children": [
       "IPY_MODEL_385b5803c22348f0a38ee05036987928",
       "IPY_MODEL_8034d1434d9c47808e7b38890291252d"
      ],
      "layout": "IPY_MODEL_2551cff342ca4045bcdc5b31d20f8989"
     }
    },
    "6266b71b2acf4d7cbf092d658220e627": {
     "model_module": "@jupyter-widgets/controls",
     "model_name": "ProgressStyleModel",
     "state": {
      "_model_module": "@jupyter-widgets/controls",
      "_model_module_version": "1.5.0",
      "_model_name": "ProgressStyleModel",
      "_view_count": null,
      "_view_module": "@jupyter-widgets/base",
      "_view_module_version": "1.2.0",
      "_view_name": "StyleView",
      "bar_color": null,
      "description_width": "initial"
     }
    },
    "635744a5140f44019cc518d57bd50f2b": {
     "model_module": "@jupyter-widgets/controls",
     "model_name": "DescriptionStyleModel",
     "state": {
      "_model_module": "@jupyter-widgets/controls",
      "_model_module_version": "1.5.0",
      "_model_name": "DescriptionStyleModel",
      "_view_count": null,
      "_view_module": "@jupyter-widgets/base",
      "_view_module_version": "1.2.0",
      "_view_name": "StyleView",
      "description_width": ""
     }
    },
    "6840c9f6c1384f0ab3c1da0d15e29c87": {
     "model_module": "@jupyter-widgets/base",
     "model_name": "LayoutModel",
     "state": {
      "_model_module": "@jupyter-widgets/base",
      "_model_module_version": "1.2.0",
      "_model_name": "LayoutModel",
      "_view_count": null,
      "_view_module": "@jupyter-widgets/base",
      "_view_module_version": "1.2.0",
      "_view_name": "LayoutView",
      "align_content": null,
      "align_items": null,
      "align_self": null,
      "border": null,
      "bottom": null,
      "display": null,
      "flex": null,
      "flex_flow": null,
      "grid_area": null,
      "grid_auto_columns": null,
      "grid_auto_flow": null,
      "grid_auto_rows": null,
      "grid_column": null,
      "grid_gap": null,
      "grid_row": null,
      "grid_template_areas": null,
      "grid_template_columns": null,
      "grid_template_rows": null,
      "height": null,
      "justify_content": null,
      "justify_items": null,
      "left": null,
      "margin": null,
      "max_height": null,
      "max_width": null,
      "min_height": null,
      "min_width": null,
      "object_fit": null,
      "object_position": null,
      "order": null,
      "overflow": null,
      "overflow_x": null,
      "overflow_y": null,
      "padding": null,
      "right": null,
      "top": null,
      "visibility": null,
      "width": null
     }
    },
    "6f613dd28f4643ef940aa33086bcc907": {
     "model_module": "@jupyter-widgets/base",
     "model_name": "LayoutModel",
     "state": {
      "_model_module": "@jupyter-widgets/base",
      "_model_module_version": "1.2.0",
      "_model_name": "LayoutModel",
      "_view_count": null,
      "_view_module": "@jupyter-widgets/base",
      "_view_module_version": "1.2.0",
      "_view_name": "LayoutView",
      "align_content": null,
      "align_items": null,
      "align_self": null,
      "border": null,
      "bottom": null,
      "display": null,
      "flex": null,
      "flex_flow": null,
      "grid_area": null,
      "grid_auto_columns": null,
      "grid_auto_flow": null,
      "grid_auto_rows": null,
      "grid_column": null,
      "grid_gap": null,
      "grid_row": null,
      "grid_template_areas": null,
      "grid_template_columns": null,
      "grid_template_rows": null,
      "height": null,
      "justify_content": null,
      "justify_items": null,
      "left": null,
      "margin": null,
      "max_height": null,
      "max_width": null,
      "min_height": null,
      "min_width": null,
      "object_fit": null,
      "object_position": null,
      "order": null,
      "overflow": null,
      "overflow_x": null,
      "overflow_y": null,
      "padding": null,
      "right": null,
      "top": null,
      "visibility": null,
      "width": null
     }
    },
    "705a70ce36774b22b872a1dd0aede42f": {
     "model_module": "@jupyter-widgets/base",
     "model_name": "LayoutModel",
     "state": {
      "_model_module": "@jupyter-widgets/base",
      "_model_module_version": "1.2.0",
      "_model_name": "LayoutModel",
      "_view_count": null,
      "_view_module": "@jupyter-widgets/base",
      "_view_module_version": "1.2.0",
      "_view_name": "LayoutView",
      "align_content": null,
      "align_items": null,
      "align_self": null,
      "border": null,
      "bottom": null,
      "display": null,
      "flex": null,
      "flex_flow": null,
      "grid_area": null,
      "grid_auto_columns": null,
      "grid_auto_flow": null,
      "grid_auto_rows": null,
      "grid_column": null,
      "grid_gap": null,
      "grid_row": null,
      "grid_template_areas": null,
      "grid_template_columns": null,
      "grid_template_rows": null,
      "height": null,
      "justify_content": null,
      "justify_items": null,
      "left": null,
      "margin": null,
      "max_height": null,
      "max_width": null,
      "min_height": null,
      "min_width": null,
      "object_fit": null,
      "object_position": null,
      "order": null,
      "overflow": null,
      "overflow_x": null,
      "overflow_y": null,
      "padding": null,
      "right": null,
      "top": null,
      "visibility": null,
      "width": null
     }
    },
    "75e943176f30409ca59dc6e448a3ee2b": {
     "model_module": "@jupyter-widgets/controls",
     "model_name": "FloatProgressModel",
     "state": {
      "_dom_classes": [],
      "_model_module": "@jupyter-widgets/controls",
      "_model_module_version": "1.5.0",
      "_model_name": "FloatProgressModel",
      "_view_count": null,
      "_view_module": "@jupyter-widgets/controls",
      "_view_module_version": "1.5.0",
      "_view_name": "ProgressView",
      "bar_style": "success",
      "description": "",
      "description_tooltip": null,
      "layout": "IPY_MODEL_0db9a8a212c74731b51021929a1ca56c",
      "max": 1,
      "min": 0,
      "orientation": "horizontal",
      "style": "IPY_MODEL_2aa94eb5d5094506bfa4d4a40f0e14a1",
      "value": 1
     }
    },
    "7ea6b521510c475b8cd9c74ea58c8123": {
     "model_module": "@jupyter-widgets/base",
     "model_name": "LayoutModel",
     "state": {
      "_model_module": "@jupyter-widgets/base",
      "_model_module_version": "1.2.0",
      "_model_name": "LayoutModel",
      "_view_count": null,
      "_view_module": "@jupyter-widgets/base",
      "_view_module_version": "1.2.0",
      "_view_name": "LayoutView",
      "align_content": null,
      "align_items": null,
      "align_self": null,
      "border": null,
      "bottom": null,
      "display": null,
      "flex": null,
      "flex_flow": null,
      "grid_area": null,
      "grid_auto_columns": null,
      "grid_auto_flow": null,
      "grid_auto_rows": null,
      "grid_column": null,
      "grid_gap": null,
      "grid_row": null,
      "grid_template_areas": null,
      "grid_template_columns": null,
      "grid_template_rows": null,
      "height": null,
      "justify_content": null,
      "justify_items": null,
      "left": null,
      "margin": null,
      "max_height": null,
      "max_width": null,
      "min_height": null,
      "min_width": null,
      "object_fit": null,
      "object_position": null,
      "order": null,
      "overflow": null,
      "overflow_x": null,
      "overflow_y": null,
      "padding": null,
      "right": null,
      "top": null,
      "visibility": null,
      "width": null
     }
    },
    "8034d1434d9c47808e7b38890291252d": {
     "model_module": "@jupyter-widgets/controls",
     "model_name": "HTMLModel",
     "state": {
      "_dom_classes": [],
      "_model_module": "@jupyter-widgets/controls",
      "_model_module_version": "1.5.0",
      "_model_name": "HTMLModel",
      "_view_count": null,
      "_view_module": "@jupyter-widgets/controls",
      "_view_module_version": "1.5.0",
      "_view_name": "HTMLView",
      "description": "",
      "description_tooltip": null,
      "layout": "IPY_MODEL_d0e7ecef8d334ea2bdebcfd5a771e022",
      "placeholder": "​",
      "style": "IPY_MODEL_92554f41054b40ebbf1bbc7c51a575d3",
      "value": " 9920512/? [00:09&lt;00:00, 1034376.47it/s]"
     }
    },
    "8dbba0b3e1e04197989cb631490eb6c2": {
     "model_module": "@jupyter-widgets/base",
     "model_name": "LayoutModel",
     "state": {
      "_model_module": "@jupyter-widgets/base",
      "_model_module_version": "1.2.0",
      "_model_name": "LayoutModel",
      "_view_count": null,
      "_view_module": "@jupyter-widgets/base",
      "_view_module_version": "1.2.0",
      "_view_name": "LayoutView",
      "align_content": null,
      "align_items": null,
      "align_self": null,
      "border": null,
      "bottom": null,
      "display": null,
      "flex": null,
      "flex_flow": null,
      "grid_area": null,
      "grid_auto_columns": null,
      "grid_auto_flow": null,
      "grid_auto_rows": null,
      "grid_column": null,
      "grid_gap": null,
      "grid_row": null,
      "grid_template_areas": null,
      "grid_template_columns": null,
      "grid_template_rows": null,
      "height": null,
      "justify_content": null,
      "justify_items": null,
      "left": null,
      "margin": null,
      "max_height": null,
      "max_width": null,
      "min_height": null,
      "min_width": null,
      "object_fit": null,
      "object_position": null,
      "order": null,
      "overflow": null,
      "overflow_x": null,
      "overflow_y": null,
      "padding": null,
      "right": null,
      "top": null,
      "visibility": null,
      "width": null
     }
    },
    "92554f41054b40ebbf1bbc7c51a575d3": {
     "model_module": "@jupyter-widgets/controls",
     "model_name": "DescriptionStyleModel",
     "state": {
      "_model_module": "@jupyter-widgets/controls",
      "_model_module_version": "1.5.0",
      "_model_name": "DescriptionStyleModel",
      "_view_count": null,
      "_view_module": "@jupyter-widgets/base",
      "_view_module_version": "1.2.0",
      "_view_name": "StyleView",
      "description_width": ""
     }
    },
    "976a3e55814749dbbf1ef0acaf959141": {
     "model_module": "@jupyter-widgets/controls",
     "model_name": "FloatProgressModel",
     "state": {
      "_dom_classes": [],
      "_model_module": "@jupyter-widgets/controls",
      "_model_module_version": "1.5.0",
      "_model_name": "FloatProgressModel",
      "_view_count": null,
      "_view_module": "@jupyter-widgets/controls",
      "_view_module_version": "1.5.0",
      "_view_name": "ProgressView",
      "bar_style": "success",
      "description": "",
      "description_tooltip": null,
      "layout": "IPY_MODEL_6840c9f6c1384f0ab3c1da0d15e29c87",
      "max": 1,
      "min": 0,
      "orientation": "horizontal",
      "style": "IPY_MODEL_269d9c15c8fc48c79f739f7cd781aa54",
      "value": 1
     }
    },
    "b308c3a37caa40fdb6ed5062abdfcc96": {
     "model_module": "@jupyter-widgets/controls",
     "model_name": "HBoxModel",
     "state": {
      "_dom_classes": [],
      "_model_module": "@jupyter-widgets/controls",
      "_model_module_version": "1.5.0",
      "_model_name": "HBoxModel",
      "_view_count": null,
      "_view_module": "@jupyter-widgets/controls",
      "_view_module_version": "1.5.0",
      "_view_name": "HBoxView",
      "box_style": "",
      "children": [
       "IPY_MODEL_976a3e55814749dbbf1ef0acaf959141",
       "IPY_MODEL_b47986e9a32f4440a444d66c6e302beb"
      ],
      "layout": "IPY_MODEL_7ea6b521510c475b8cd9c74ea58c8123"
     }
    },
    "b47986e9a32f4440a444d66c6e302beb": {
     "model_module": "@jupyter-widgets/controls",
     "model_name": "HTMLModel",
     "state": {
      "_dom_classes": [],
      "_model_module": "@jupyter-widgets/controls",
      "_model_module_version": "1.5.0",
      "_model_name": "HTMLModel",
      "_view_count": null,
      "_view_module": "@jupyter-widgets/controls",
      "_view_module_version": "1.5.0",
      "_view_name": "HTMLView",
      "description": "",
      "description_tooltip": null,
      "layout": "IPY_MODEL_bee49a1e04f349d8a0f096b1b8336ea2",
      "placeholder": "​",
      "style": "IPY_MODEL_d91617da1bfc49bcb7f685094b4683fe",
      "value": " 8192/? [00:07&lt;00:00, 1167.91it/s]"
     }
    },
    "bee49a1e04f349d8a0f096b1b8336ea2": {
     "model_module": "@jupyter-widgets/base",
     "model_name": "LayoutModel",
     "state": {
      "_model_module": "@jupyter-widgets/base",
      "_model_module_version": "1.2.0",
      "_model_name": "LayoutModel",
      "_view_count": null,
      "_view_module": "@jupyter-widgets/base",
      "_view_module_version": "1.2.0",
      "_view_name": "LayoutView",
      "align_content": null,
      "align_items": null,
      "align_self": null,
      "border": null,
      "bottom": null,
      "display": null,
      "flex": null,
      "flex_flow": null,
      "grid_area": null,
      "grid_auto_columns": null,
      "grid_auto_flow": null,
      "grid_auto_rows": null,
      "grid_column": null,
      "grid_gap": null,
      "grid_row": null,
      "grid_template_areas": null,
      "grid_template_columns": null,
      "grid_template_rows": null,
      "height": null,
      "justify_content": null,
      "justify_items": null,
      "left": null,
      "margin": null,
      "max_height": null,
      "max_width": null,
      "min_height": null,
      "min_width": null,
      "object_fit": null,
      "object_position": null,
      "order": null,
      "overflow": null,
      "overflow_x": null,
      "overflow_y": null,
      "padding": null,
      "right": null,
      "top": null,
      "visibility": null,
      "width": null
     }
    },
    "d0e7ecef8d334ea2bdebcfd5a771e022": {
     "model_module": "@jupyter-widgets/base",
     "model_name": "LayoutModel",
     "state": {
      "_model_module": "@jupyter-widgets/base",
      "_model_module_version": "1.2.0",
      "_model_name": "LayoutModel",
      "_view_count": null,
      "_view_module": "@jupyter-widgets/base",
      "_view_module_version": "1.2.0",
      "_view_name": "LayoutView",
      "align_content": null,
      "align_items": null,
      "align_self": null,
      "border": null,
      "bottom": null,
      "display": null,
      "flex": null,
      "flex_flow": null,
      "grid_area": null,
      "grid_auto_columns": null,
      "grid_auto_flow": null,
      "grid_auto_rows": null,
      "grid_column": null,
      "grid_gap": null,
      "grid_row": null,
      "grid_template_areas": null,
      "grid_template_columns": null,
      "grid_template_rows": null,
      "height": null,
      "justify_content": null,
      "justify_items": null,
      "left": null,
      "margin": null,
      "max_height": null,
      "max_width": null,
      "min_height": null,
      "min_width": null,
      "object_fit": null,
      "object_position": null,
      "order": null,
      "overflow": null,
      "overflow_x": null,
      "overflow_y": null,
      "padding": null,
      "right": null,
      "top": null,
      "visibility": null,
      "width": null
     }
    },
    "d91617da1bfc49bcb7f685094b4683fe": {
     "model_module": "@jupyter-widgets/controls",
     "model_name": "DescriptionStyleModel",
     "state": {
      "_model_module": "@jupyter-widgets/controls",
      "_model_module_version": "1.5.0",
      "_model_name": "DescriptionStyleModel",
      "_view_count": null,
      "_view_module": "@jupyter-widgets/base",
      "_view_module_version": "1.2.0",
      "_view_name": "StyleView",
      "description_width": ""
     }
    },
    "d9e59fd12e974befb90cf92acb49b022": {
     "model_module": "@jupyter-widgets/controls",
     "model_name": "FloatProgressModel",
     "state": {
      "_dom_classes": [],
      "_model_module": "@jupyter-widgets/controls",
      "_model_module_version": "1.5.0",
      "_model_name": "FloatProgressModel",
      "_view_count": null,
      "_view_module": "@jupyter-widgets/controls",
      "_view_module_version": "1.5.0",
      "_view_name": "ProgressView",
      "bar_style": "success",
      "description": "",
      "description_tooltip": null,
      "layout": "IPY_MODEL_db06b67fa4ff4124b4052defd83152c9",
      "max": 1,
      "min": 0,
      "orientation": "horizontal",
      "style": "IPY_MODEL_5aecb827543a43768d5769cd7718d434",
      "value": 1
     }
    },
    "db06b67fa4ff4124b4052defd83152c9": {
     "model_module": "@jupyter-widgets/base",
     "model_name": "LayoutModel",
     "state": {
      "_model_module": "@jupyter-widgets/base",
      "_model_module_version": "1.2.0",
      "_model_name": "LayoutModel",
      "_view_count": null,
      "_view_module": "@jupyter-widgets/base",
      "_view_module_version": "1.2.0",
      "_view_name": "LayoutView",
      "align_content": null,
      "align_items": null,
      "align_self": null,
      "border": null,
      "bottom": null,
      "display": null,
      "flex": null,
      "flex_flow": null,
      "grid_area": null,
      "grid_auto_columns": null,
      "grid_auto_flow": null,
      "grid_auto_rows": null,
      "grid_column": null,
      "grid_gap": null,
      "grid_row": null,
      "grid_template_areas": null,
      "grid_template_columns": null,
      "grid_template_rows": null,
      "height": null,
      "justify_content": null,
      "justify_items": null,
      "left": null,
      "margin": null,
      "max_height": null,
      "max_width": null,
      "min_height": null,
      "min_width": null,
      "object_fit": null,
      "object_position": null,
      "order": null,
      "overflow": null,
      "overflow_x": null,
      "overflow_y": null,
      "padding": null,
      "right": null,
      "top": null,
      "visibility": null,
      "width": null
     }
    },
    "de3a6a4d7361498dabd718f351d5cf66": {
     "model_module": "@jupyter-widgets/controls",
     "model_name": "HTMLModel",
     "state": {
      "_dom_classes": [],
      "_model_module": "@jupyter-widgets/controls",
      "_model_module_version": "1.5.0",
      "_model_name": "HTMLModel",
      "_view_count": null,
      "_view_module": "@jupyter-widgets/controls",
      "_view_module_version": "1.5.0",
      "_view_name": "HTMLView",
      "description": "",
      "description_tooltip": null,
      "layout": "IPY_MODEL_705a70ce36774b22b872a1dd0aede42f",
      "placeholder": "​",
      "style": "IPY_MODEL_635744a5140f44019cc518d57bd50f2b",
      "value": " 32768/? [00:00&lt;00:00, 106619.76it/s]"
     }
    },
    "e2763e98d065481fb86b30ced3fc675c": {
     "model_module": "@jupyter-widgets/controls",
     "model_name": "HBoxModel",
     "state": {
      "_dom_classes": [],
      "_model_module": "@jupyter-widgets/controls",
      "_model_module_version": "1.5.0",
      "_model_name": "HBoxModel",
      "_view_count": null,
      "_view_module": "@jupyter-widgets/controls",
      "_view_module_version": "1.5.0",
      "_view_name": "HBoxView",
      "box_style": "",
      "children": [
       "IPY_MODEL_75e943176f30409ca59dc6e448a3ee2b",
       "IPY_MODEL_2cd18d76d41c4d0e8a51db708b084233"
      ],
      "layout": "IPY_MODEL_409334a90dc2490aa44b8fefacdbb0a4"
     }
    },
    "f41f561859d0499f899d9459b1dda77b": {
     "model_module": "@jupyter-widgets/base",
     "model_name": "LayoutModel",
     "state": {
      "_model_module": "@jupyter-widgets/base",
      "_model_module_version": "1.2.0",
      "_model_name": "LayoutModel",
      "_view_count": null,
      "_view_module": "@jupyter-widgets/base",
      "_view_module_version": "1.2.0",
      "_view_name": "LayoutView",
      "align_content": null,
      "align_items": null,
      "align_self": null,
      "border": null,
      "bottom": null,
      "display": null,
      "flex": null,
      "flex_flow": null,
      "grid_area": null,
      "grid_auto_columns": null,
      "grid_auto_flow": null,
      "grid_auto_rows": null,
      "grid_column": null,
      "grid_gap": null,
      "grid_row": null,
      "grid_template_areas": null,
      "grid_template_columns": null,
      "grid_template_rows": null,
      "height": null,
      "justify_content": null,
      "justify_items": null,
      "left": null,
      "margin": null,
      "max_height": null,
      "max_width": null,
      "min_height": null,
      "min_width": null,
      "object_fit": null,
      "object_position": null,
      "order": null,
      "overflow": null,
      "overflow_x": null,
      "overflow_y": null,
      "padding": null,
      "right": null,
      "top": null,
      "visibility": null,
      "width": null
     }
    }
   }
  }
 },
 "nbformat": 4,
 "nbformat_minor": 1
}
